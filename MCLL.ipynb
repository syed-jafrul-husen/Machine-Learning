{
 "cells": [
  {
   "cell_type": "code",
   "execution_count": 7,
   "metadata": {},
   "outputs": [],
   "source": [
    "import numpy as np\n",
    "import matplotlib.pyplot as plot\n",
    "import math as math\n",
    "from sklearn import datasets"
   ]
  },
  {
   "cell_type": "code",
   "execution_count": 9,
   "metadata": {},
   "outputs": [],
   "source": [
    "iris =datasets.load_iris()\n",
    "X=iris.data[:100]\n",
    "x=[]\n",
    "for ix in X:\n",
    "    nx=[1,ix[0],ix[1],ix[2],ix[3]]\n",
    "    x.append(nx)\n",
    "\n",
    "y=iris.target[:100]"
   ]
  },
  {
   "cell_type": "code",
   "execution_count": 10,
   "metadata": {},
   "outputs": [],
   "source": [
    "def call_dot(x,theta):\n",
    "    z=[(np.dot(xi,theta)) for xi in x]\n",
    "    return z"
   ]
  },
  {
   "cell_type": "code",
   "execution_count": 11,
   "metadata": {},
   "outputs": [],
   "source": [
    "def call_yhad(z):\n",
    "    yhad=[(1/(1+np.exp(-zi))) for zi in z]\n",
    "    return yhad"
   ]
  },
  {
   "cell_type": "code",
   "execution_count": 12,
   "metadata": {},
   "outputs": [],
   "source": [
    "def call_theta(x,y,yhad,n):\n",
    "    sm=0\n",
    "    for i in range(len(x)):\n",
    "        sm+=(-(y[i]-yhad[i])*x[i][n])\n",
    "    dt=sm/len(x)\n",
    "    return dt"
   ]
  },
  {
   "cell_type": "code",
   "execution_count": 13,
   "metadata": {},
   "outputs": [
    {
     "name": "stdout",
     "output_type": "stream",
     "text": [
      "[-0.022366182054288766, -0.0204113027535614, -0.14196848717335872, 0.2437736299315026, 0.10134411290243053]\n"
     ]
    }
   ],
   "source": [
    "l=0.0001\n",
    "theta=[0,0,0,0,0]\n",
    "big_n=5000\n",
    "for i in range(big_n):\n",
    "    \n",
    "    z=call_dot(x,theta)\n",
    "    \n",
    "    yhad=call_yhad(z)\n",
    "    \n",
    "    dt1=call_theta(x,y,yhad,0)\n",
    "    dt2=call_theta(x,y,yhad,1)\n",
    "    dt3=call_theta(x,y,yhad,2)\n",
    "    dt4=call_theta(x,y,yhad,3)\n",
    "    dt5=call_theta(x,y,yhad,4)\n",
    "    \n",
    "    theta[0]=theta[0]-(l*dt1)\n",
    "    theta[1]=theta[1]-(l*dt2)\n",
    "    theta[2]=theta[2]-(l*dt3)\n",
    "    theta[3]=theta[3]-(l*dt4)\n",
    "    theta[4]=theta[4]-(l*dt5)\n",
    "    \n",
    "\n",
    "print(theta)"
   ]
  },
  {
   "cell_type": "code",
   "execution_count": 14,
   "metadata": {},
   "outputs": [
    {
     "name": "stdout",
     "output_type": "stream",
     "text": [
      "[0, 0, 0, 0, 0, 0, 0, 0, 0, 0, 0, 0, 0, 0, 0, 0, 0, 0, 0, 0, 0, 0, 0, 0, 0, 0, 0, 0, 0, 0, 0, 0, 0, 0, 0, 0, 0, 0, 0, 0, 0, 0, 0, 0, 0, 0, 0, 0, 0, 0, 1, 1, 1, 1, 1, 1, 1, 1, 1, 1, 1, 1, 1, 1, 1, 1, 1, 1, 1, 1, 1, 1, 1, 1, 1, 1, 1, 1, 1, 1, 1, 1, 1, 1, 1, 1, 1, 1, 1, 1, 1, 1, 1, 1, 1, 1, 1, 1, 1, 1]\n"
     ]
    }
   ],
   "source": [
    "ny=[]\n",
    "for i in range(len(x)):\n",
    "    nz=np.dot(x[i],theta)\n",
    "    nyhad=1/(1+np.exp(-nz))\n",
    "    if nyhad<=0.5:\n",
    "        ny.append(0)\n",
    "    elif nyhad>0.5:\n",
    "        ny.append(1)\n",
    "print(ny)\n"
   ]
  },
  {
   "cell_type": "code",
   "execution_count": 15,
   "metadata": {},
   "outputs": [
    {
     "name": "stdout",
     "output_type": "stream",
     "text": [
      "100\n"
     ]
    }
   ],
   "source": [
    "c=0\n",
    "for i in range(len(x)):\n",
    "    if y[i]==ny[i]:\n",
    "        c=c+1\n",
    "print(c)        "
   ]
  },
  {
   "cell_type": "code",
   "execution_count": 16,
   "metadata": {},
   "outputs": [
    {
     "name": "stdout",
     "output_type": "stream",
     "text": [
      "0\n"
     ]
    }
   ],
   "source": [
    "xt=[1,7,3,2,1]\n",
    "c=np.dot(xt,theta)\n",
    "newp=1/(1+np.exp(-c))\n",
    "if(newp<=0.5):\n",
    "    print(0)\n",
    "elif(newp>0.5):\n",
    "    print(1)"
   ]
  },
  {
   "cell_type": "code",
   "execution_count": 17,
   "metadata": {},
   "outputs": [
    {
     "name": "stdout",
     "output_type": "stream",
     "text": [
      "1\n"
     ]
    }
   ],
   "source": [
    "xt=[1,4,3,8,0]\n",
    "c=np.dot(xt,theta)\n",
    "newp=1/(1+np.exp(-c))\n",
    "if(newp<=0.5):\n",
    "    print(0)\n",
    "elif(newp>0.5):\n",
    "    print(1)"
   ]
  },
  {
   "cell_type": "code",
   "execution_count": null,
   "metadata": {},
   "outputs": [],
   "source": []
  },
  {
   "cell_type": "code",
   "execution_count": null,
   "metadata": {},
   "outputs": [],
   "source": []
  }
 ],
 "metadata": {
  "kernelspec": {
   "display_name": "Python 3",
   "language": "python",
   "name": "python3"
  },
  "language_info": {
   "codemirror_mode": {
    "name": "ipython",
    "version": 3
   },
   "file_extension": ".py",
   "mimetype": "text/x-python",
   "name": "python",
   "nbconvert_exporter": "python",
   "pygments_lexer": "ipython3",
   "version": "3.7.3"
  }
 },
 "nbformat": 4,
 "nbformat_minor": 2
}
