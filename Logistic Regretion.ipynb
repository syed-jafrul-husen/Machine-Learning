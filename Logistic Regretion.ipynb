{
 "cells": [
  {
   "cell_type": "code",
   "execution_count": 2,
   "metadata": {},
   "outputs": [],
   "source": [
    "import numpy as np"
   ]
  },
  {
   "cell_type": "code",
   "execution_count": 16,
   "metadata": {},
   "outputs": [
    {
     "name": "stdout",
     "output_type": "stream",
     "text": [
      "[[1, 10], [1, 20], [1, 30], [1, 40], [1, 50], [1, 60], [1, 70]]\n",
      "[1, 60]\n"
     ]
    }
   ],
   "source": [
    "x = [10,20,30,40,50,60,70]\n",
    "y = [0,0,0,1,1,1,1]\n",
    "x2d=[ [1, i ] for i in x]\n",
    "print(x2d)\n",
    "print(x2d[5])"
   ]
  },
  {
   "cell_type": "code",
   "execution_count": 12,
   "metadata": {},
   "outputs": [
    {
     "name": "stdout",
     "output_type": "stream",
     "text": [
      "(7, 2)\n"
     ]
    }
   ],
   "source": [
    "X = np.array(x2d)\n",
    "print(X.shape)"
   ]
  },
  {
   "cell_type": "code",
   "execution_count": 18,
   "metadata": {},
   "outputs": [
    {
     "name": "stdout",
     "output_type": "stream",
     "text": [
      "[12, 22, 32, 42, 52, 62, 72]\n"
     ]
    }
   ],
   "source": [
    "theta = [2,1]\n",
    "z = []\n",
    "for i in range(7):\n",
    "    z.append( (x2d[i][0]*theta[0]) + (x2d[i][1]*theta[1]) )\n",
    "print(z)"
   ]
  },
  {
   "cell_type": "code",
   "execution_count": 25,
   "metadata": {},
   "outputs": [
    {
     "name": "stdout",
     "output_type": "stream",
     "text": [
      "[0.9999938558253978, 0.9999999997210531, 0.9999999999999873, 1.0, 1.0, 1.0, 1.0]\n"
     ]
    }
   ],
   "source": [
    "yhead = []\n",
    "for i in range(7):\n",
    "    yhead.append(1/ (1+np.exp(-1*z[i])) )\n",
    "print(yhead)"
   ]
  },
  {
   "cell_type": "code",
   "execution_count": 28,
   "metadata": {
    "scrolled": false
   },
   "outputs": [
    {
     "name": "stdout",
     "output_type": "stream",
     "text": [
      "0.7310585786300049\n"
     ]
    }
   ],
   "source": [
    "print(1/(1+np.exp(-1)))"
   ]
  },
  {
   "cell_type": "code",
   "execution_count": 30,
   "metadata": {
    "scrolled": true
   },
   "outputs": [
    {
     "name": "stdout",
     "output_type": "stream",
     "text": [
      "0.4285705507923483\n"
     ]
    }
   ],
   "source": [
    "dtzero = 0.0\n",
    "for i in range(7):\n",
    "    dtzero = dtzero + ((y[i]-yhead[i])*x2d[i][0])\n",
    "dtzero = (1.0/7.0)*dtzero*-1.0\n",
    "print(dtzero)"
   ]
  },
  {
   "cell_type": "code",
   "execution_count": 32,
   "metadata": {},
   "outputs": [
    {
     "name": "stdout",
     "output_type": "stream",
     "text": [
      "8.571419793239237\n"
     ]
    }
   ],
   "source": [
    "dtone = 0.0\n",
    "for i in range(7):\n",
    "    dtone = dtone + ((y[i]-yhead[i])*x2d[i][1])\n",
    "dtone = (1.0/7.0)*dtone*-1.0\n",
    "print(dtone)"
   ]
  },
  {
   "cell_type": "code",
   "execution_count": 35,
   "metadata": {},
   "outputs": [
    {
     "name": "stdout",
     "output_type": "stream",
     "text": [
      "0.4285705507923483 8.571419793239237\n"
     ]
    }
   ],
   "source": [
    "print(dtzero,dtone)"
   ]
  },
  {
   "cell_type": "code",
   "execution_count": 52,
   "metadata": {},
   "outputs": [
    {
     "name": "stdout",
     "output_type": "stream",
     "text": [
      "[-19.95851109446374, 0.5746114577456777]\n"
     ]
    }
   ],
   "source": [
    "l = 0.1\n",
    "th = [0,0]\n",
    "\n",
    "for i in range(5000):\n",
    "    z2 = []\n",
    "    for j in range(7):\n",
    "        z2.append( (x2d[j][0]*th[0]) + (x2d[j][1]*th[1]) )\n",
    "    yh = []\n",
    "    for j in range(7):\n",
    "        yh.append(1/ (1+np.exp(-1*z2[j])) )\n",
    "        \n",
    "    dt = [0.0,0.0]\n",
    "    for j in range(7):\n",
    "        dt[0] = dt[0] + ((y[j]-yh[j])*x2d[j][0])\n",
    "    dt[0] = (1.0/7.0)*dt[0]*-1.0\n",
    "    #print(dt[0])\n",
    "    \n",
    "    for j in range(7):\n",
    "        dt[1] = dt[1] + ((y[j]-yh[j])*x2d[j][1])\n",
    "    dt[1] = (1.0/7.0)*dt[1]*-1.0\n",
    "    #print(dt[1])\n",
    "    \n",
    "    th[0] = th[0]-(l*dt[0])\n",
    "    th[1] = th[1]-(l*dt[1])\n",
    "    \n",
    "print(th)"
   ]
  },
  {
   "cell_type": "code",
   "execution_count": 53,
   "metadata": {},
   "outputs": [
    {
     "name": "stdout",
     "output_type": "stream",
     "text": [
      "[-14.212396517006965, -8.466281939550187, -2.7201673620934095, 3.0259472153633666, 8.772061792820143, 14.518176370276922, 20.264290947733695]\n"
     ]
    }
   ],
   "source": [
    "\n",
    "zp = []\n",
    "for i in range(7):\n",
    "    zp.append( (x2d[i][0]*th[0]) + (x2d[i][1]*th[1]) )\n",
    "print(zp)\n"
   ]
  },
  {
   "cell_type": "code",
   "execution_count": 54,
   "metadata": {},
   "outputs": [
    {
     "name": "stdout",
     "output_type": "stream",
     "text": [
      "[6.724102514848539e-07, 0.00021040162298767935, 0.06179376268546006, 0.9537326655779553, 0.9998450203568945, 0.9999995047369817, 0.9999999984175489]\n"
     ]
    }
   ],
   "source": [
    "yheadP = []\n",
    "for i in range(7):\n",
    "    yheadP.append(1/ (1+np.exp(-1*zp[i])) )\n",
    "print(yheadP)"
   ]
  },
  {
   "cell_type": "code",
   "execution_count": 55,
   "metadata": {},
   "outputs": [
    {
     "name": "stdout",
     "output_type": "stream",
     "text": [
      "[0, 0, 0, 1, 1, 1, 1]\n"
     ]
    }
   ],
   "source": [
    "for i in range(7):\n",
    "    if yheadP[i]>0.5:\n",
    "        yheadP[i] = 1\n",
    "    else:\n",
    "        yheadP[i] = 0\n",
    "print(yheadP)"
   ]
  },
  {
   "cell_type": "code",
   "execution_count": 71,
   "metadata": {},
   "outputs": [
    {
     "name": "stdout",
     "output_type": "stream",
     "text": [
      "1\n"
     ]
    }
   ],
   "source": [
    "tx = [1,80]\n",
    "zt =  (tx[0]*th[0]) + (tx[1]*th[1])\n",
    "\n",
    "pyh = 1/ (1+np.exp(-1*zt))\n",
    "if pyh > 0.5:\n",
    "    pyh = 1\n",
    "else:\n",
    "    pyh = 0\n",
    "print(pyh)"
   ]
  },
  {
   "cell_type": "code",
   "execution_count": 73,
   "metadata": {},
   "outputs": [
    {
     "name": "stdout",
     "output_type": "stream",
     "text": [
      "0\n"
     ]
    }
   ],
   "source": [
    "tx = [1,25]\n",
    "zt =  (tx[0]*th[0]) + (tx[1]*th[1])\n",
    "\n",
    "pyh = 1/ (1+np.exp(-1*zt))\n",
    "if pyh > 0.5:\n",
    "    pyh = 1\n",
    "else:\n",
    "    pyh = 0\n",
    "print(pyh)"
   ]
  },
  {
   "cell_type": "code",
   "execution_count": null,
   "metadata": {},
   "outputs": [],
   "source": []
  }
 ],
 "metadata": {
  "kernelspec": {
   "display_name": "Python 3",
   "language": "python",
   "name": "python3"
  },
  "language_info": {
   "codemirror_mode": {
    "name": "ipython",
    "version": 3
   },
   "file_extension": ".py",
   "mimetype": "text/x-python",
   "name": "python",
   "nbconvert_exporter": "python",
   "pygments_lexer": "ipython3",
   "version": "3.7.3"
  }
 },
 "nbformat": 4,
 "nbformat_minor": 2
}
