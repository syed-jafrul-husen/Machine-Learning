{
 "cells": [
  {
   "cell_type": "code",
   "execution_count": 34,
   "metadata": {},
   "outputs": [],
   "source": [
    "import numpy as np\n",
    "import matplotlib.pyplot as plt\n",
    "import math"
   ]
  },
  {
   "cell_type": "code",
   "execution_count": 35,
   "metadata": {},
   "outputs": [
    {
     "name": "stdout",
     "output_type": "stream",
     "text": [
      "[[14  5]\n",
      " [16  5]\n",
      " [ 6  0]\n",
      " [10  1]\n",
      " [ 8  2]\n",
      " [15  6]\n",
      " [15  7]\n",
      " [ 8  2]\n",
      " [ 8  1]\n",
      " [15  4]]\n",
      "[1, 1, 0, 0, 0, 1, 1, 0, 0, 1]\n"
     ]
    }
   ],
   "source": [
    "X = [ [14, 5], [16, 5], [6, 0], [10, 1], [8, 2], [15, 6], [15, 7], [8, 2], [8, 1], [15, 4] ]\n",
    "x = np.array(X)\n",
    "y = [1,1,0,0,0,1,1,0,0,1]\n",
    "print(x)\n",
    "print(y)"
   ]
  },
  {
   "cell_type": "code",
   "execution_count": 36,
   "metadata": {},
   "outputs": [
    {
     "data": {
      "image/png": "[encoded data removed]",
      "text/plain": [
       "<Figure size 432x288 with 1 Axes>"
      ]
     },
     "metadata": {
      "needs_background": "light"
     },
     "output_type": "display_data"
    }
   ],
   "source": [
    "plt.scatter(x[:,0],x[:,1],marker='o',c=y)\n",
    "plt.grid()\n",
    "plt.xlim(0,20)\n",
    "plt.ylim(-2,10)\n",
    "plt.show()"
   ]
  },
  {
   "cell_type": "code",
   "execution_count": 37,
   "metadata": {},
   "outputs": [
    {
     "name": "stdout",
     "output_type": "stream",
     "text": [
      "[11.5  3.3]\n"
     ]
    }
   ],
   "source": [
    "avg = x.mean(axis=0)\n",
    "print(avg)"
   ]
  },
  {
   "cell_type": "code",
   "execution_count": 38,
   "metadata": {
    "scrolled": true
   },
   "outputs": [
    {
     "name": "stdout",
     "output_type": "stream",
     "text": [
      "[[ 2.5  1.7]\n",
      " [ 4.5  1.7]\n",
      " [-5.5 -3.3]\n",
      " [-1.5 -2.3]\n",
      " [-3.5 -1.3]\n",
      " [ 3.5  2.7]\n",
      " [ 3.5  3.7]\n",
      " [-3.5 -1.3]\n",
      " [-3.5 -2.3]\n",
      " [ 3.5  0.7]]\n"
     ]
    }
   ],
   "source": [
    "newx = x-avg\n",
    "print(newx)"
   ]
  },
  {
   "cell_type": "markdown",
   "metadata": {},
   "source": [
    "plt.scatter(newx[:,0],newx[:,1],marker='o',c=y)\n",
    "plt.grid()\n",
    "plt.xlim(-5,5)\n",
    "plt.ylim(-6,7)\n",
    "plt.show()"
   ]
  },
  {
   "cell_type": "code",
   "execution_count": 42,
   "metadata": {},
   "outputs": [
    {
     "name": "stdout",
     "output_type": "stream",
     "text": [
      "[[ 2.5  4.5 -5.5 -1.5 -3.5  3.5  3.5 -3.5 -3.5  3.5]\n",
      " [ 1.7  1.7 -3.3 -2.3 -1.3  2.7  3.7 -1.3 -2.3  0.7]]\n",
      "Covariance Matrix: \n",
      "[[14.72222222  8.38888889]\n",
      " [ 8.38888889  5.78888889]]\n"
     ]
    }
   ],
   "source": [
    "covM=np.dot(newx.T, newx)\n",
    "print(newx.T)\n",
    "covM=covM/( len(newx) -1 )\n",
    "\n",
    "print('Covariance Matrix: ')\n",
    "print(covM)"
   ]
  },
  {
   "cell_type": "code",
   "execution_count": 33,
   "metadata": {},
   "outputs": [
    {
     "name": "stdout",
     "output_type": "stream",
     "text": [
      "[ 0.75163174 19.75947937]\n",
      "[[ 0.51479058 -0.85731596]\n",
      " [-0.85731596 -0.51479058]]\n"
     ]
    }
   ],
   "source": [
    "eigenValue,eigenVector=np.linalg.eigh(covM)\n",
    "print(eigenValue)\n",
    "print(eigenVector)"
   ]
  },
  {
   "cell_type": "code",
   "execution_count": 43,
   "metadata": {},
   "outputs": [
    {
     "name": "stdout",
     "output_type": "stream",
     "text": [
      "[[-1.70460691e-01 -3.01843389e+00]\n",
      " [ 8.59120466e-01 -4.73306582e+00]\n",
      " [-2.20550373e-03  6.41404671e+00]\n",
      " [ 1.19964085e+00  2.46999227e+00]\n",
      " [-6.87256273e-01  3.66983362e+00]\n",
      " [-5.12986075e-01 -4.39054043e+00]\n",
      " [-1.37030204e+00 -4.90533101e+00]\n",
      " [-6.87256273e-01  3.66983362e+00]\n",
      " [ 1.70059690e-01  4.18462420e+00]\n",
      " [ 1.20164585e+00 -3.36095928e+00]]\n"
     ]
    }
   ],
   "source": [
    "pc=[]\n",
    "for x in newx:\n",
    "    pc1=np.dot(eigenVector[0], x)\n",
    "    pc2=np.dot(eigenVector[1], x)\n",
    "    pc.append([pc1,pc2])\n",
    "pc=np.array(pc)\n",
    "print(pc)"
   ]
  },
  {
   "cell_type": "code",
   "execution_count": 44,
   "metadata": {},
   "outputs": [
    {
     "data": {
      "image/png": "[encoded data removed]",
      "text/plain": [
       "<Figure size 432x288 with 1 Axes>"
      ]
     },
     "metadata": {
      "needs_background": "light"
     },
     "output_type": "display_data"
    }
   ],
   "source": [
    "plt.scatter(pc[:,0],pc[:,1]  ,marker='o',c=y)\n",
    "plt.title('Data projected on principal components')\n",
    "plt.show()"
   ]
  },
  {
   "cell_type": "code",
   "execution_count": 45,
   "metadata": {},
   "outputs": [
    {
     "name": "stdout",
     "output_type": "stream",
     "text": [
      "PC1 contribution:  3.6645101059440126  PC2 contribution:  96.335489894056\n"
     ]
    }
   ],
   "source": [
    "fc=(eigenValue[0]/(eigenValue[0]+eigenValue[1]))*100\n",
    "sc=(eigenValue[1]/(eigenValue[0]+eigenValue[1]))*100\n",
    "print('PC1 contribution: ',fc,' PC2 contribution: ',sc)"
   ]
  },
  {
   "cell_type": "code",
   "execution_count": 48,
   "metadata": {},
   "outputs": [
    {
     "name": "stdout",
     "output_type": "stream",
     "text": [
      "[[-1.70460691e-01 -3.01843389e+00]\n",
      " [ 8.59120466e-01 -4.73306582e+00]\n",
      " [-2.20550373e-03  6.41404671e+00]\n",
      " [ 1.19964085e+00  2.46999227e+00]\n",
      " [-6.87256273e-01  3.66983362e+00]\n",
      " [-5.12986075e-01 -4.39054043e+00]\n",
      " [-1.37030204e+00 -4.90533101e+00]\n",
      " [-6.87256273e-01  3.66983362e+00]\n",
      " [ 1.70059690e-01  4.18462420e+00]\n",
      " [ 1.20164585e+00 -3.36095928e+00]]\n",
      "[-0.17046069  0.85912047 -0.0022055   1.19964085 -0.68725627 -0.51298608\n",
      " -1.37030204 -0.68725627  0.17005969  1.20164585]\n",
      "[-3.01843389 -4.73306582  6.41404671  2.46999227  3.66983362 -4.39054043\n",
      " -4.90533101  3.66983362  4.1846242  -3.36095928]\n"
     ]
    }
   ],
   "source": [
    "print(pc)\n",
    "print(pc[:,0])\n",
    "print(pc[:,1])"
   ]
  },
  {
   "cell_type": "code",
   "execution_count": 53,
   "metadata": {},
   "outputs": [
    {
     "name": "stdout",
     "output_type": "stream",
     "text": [
      "[-3.01843389 -4.73306582  6.41404671  2.46999227  3.66983362 -4.39054043\n",
      " -4.90533101  3.66983362  4.1846242  -3.36095928]\n"
     ]
    },
    {
     "data": {
      "image/png": "[encoded data removed]",
      "text/plain": [
       "<Figure size 432x288 with 1 Axes>"
      ]
     },
     "metadata": {
      "needs_background": "light"
     },
     "output_type": "display_data"
    },
    {
     "name": "stdout",
     "output_type": "stream",
     "text": [
      "[0. 0. 0. 0. 0. 0. 0. 0. 0. 0.]\n"
     ]
    }
   ],
   "source": [
    "ar=pc[:,1].copy()\n",
    "print(ar)\n",
    "val=0\n",
    "plt.scatter(ar, np.zeros_like(ar) + val , marker='x' ,c=y )\n",
    "plt.show()\n",
    "print(np.zeros_like(ar) + val)"
   ]
  },
  {
   "cell_type": "code",
   "execution_count": 55,
   "metadata": {},
   "outputs": [
    {
     "name": "stdout",
     "output_type": "stream",
     "text": [
      "[14.  5.]\n",
      "[16.  5.]\n",
      "[6. 0.]\n",
      "[10.  1.]\n",
      "[8. 2.]\n",
      "[15.  6.]\n",
      "[15.  7.]\n",
      "[8. 2.]\n",
      "[8. 1.]\n",
      "[15.  4.]\n"
     ]
    }
   ],
   "source": [
    "fpc1=pc[:,0]\n",
    "fpc2=pc[:,1]\n",
    "rows=[]\n",
    "for p,p2 in zip(fpc1, fpc2):\n",
    "    #contribution_1=p*eigenVector[0]\n",
    "    contribution_2=p2*eigenVector[1]\n",
    "    row=avg+contribution_1+contribution_2\n",
    "    rows.append(row)\n",
    "    print(row)\n",
    "rows=np.array(rows)"
   ]
  },
  {
   "cell_type": "code",
   "execution_count": 56,
   "metadata": {},
   "outputs": [
    {
     "data": {
      "image/png": "[encoded data removed]",
      "text/plain": [
       "<Figure size 432x288 with 1 Axes>"
      ]
     },
     "metadata": {
      "needs_background": "light"
     },
     "output_type": "display_data"
    }
   ],
   "source": [
    "plt.scatter(rows[:,0],rows[:,1]  ,marker='o',c=y)\n",
    "plt.title('Data projected on principal components')\n",
    "plt.show()"
   ]
  },
  {
   "cell_type": "code",
   "execution_count": null,
   "metadata": {},
   "outputs": [],
   "source": []
  }
 ],
 "metadata": {
  "kernelspec": {
   "display_name": "Python 3",
   "language": "python",
   "name": "python3"
  },
  "language_info": {
   "codemirror_mode": {
    "name": "ipython",
    "version": 3
   },
   "file_extension": ".py",
   "mimetype": "text/x-python",
   "name": "python",
   "nbconvert_exporter": "python",
   "pygments_lexer": "ipython3",
   "version": "3.7.3"
  }
 },
 "nbformat": 4,
 "nbformat_minor": 2
}
