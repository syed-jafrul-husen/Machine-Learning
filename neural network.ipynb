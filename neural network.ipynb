{
 "cells": [
  {
   "cell_type": "markdown",
   "metadata": {},
   "source": [
    "# Neural Network"
   ]
  },
  {
   "cell_type": "code",
   "execution_count": 51,
   "metadata": {},
   "outputs": [],
   "source": [
    "import numpy as np"
   ]
  },
  {
   "cell_type": "code",
   "execution_count": 52,
   "metadata": {},
   "outputs": [
    {
     "name": "stdout",
     "output_type": "stream",
     "text": [
      "[[-2.8, 6.3, 6.3], [-7.2, 4.7, 4.7]]\n",
      "[-4.5, 9.6, -10.2]\n"
     ]
    }
   ],
   "source": [
    "w1 = [\n",
    "    [-2.8,6.3,6.3],\n",
    "    [-7.2,4.7,4.7]\n",
    "]\n",
    "\n",
    "w2 = [-4.5,9.6,-10.2]\n",
    "print(w1)\n",
    "print(w2)\n",
    "w1 = np.array(w1)\n",
    "w2 = np.array(w2)\n",
    "\n",
    "x = [\n",
    "    [1,0,0],\n",
    "    [1,0,1],\n",
    "    [1,1,0],\n",
    "    [1,1,1]\n",
    "]\n",
    "y = [0,1,1,0]\n",
    "x = np.array(x)\n",
    "y = np.array(y)"
   ]
  },
  {
   "cell_type": "code",
   "execution_count": 53,
   "metadata": {},
   "outputs": [],
   "source": [
    "def hiddenLayer(w1,x):\n",
    "    z = []\n",
    "    for i in range(len(w1)):\n",
    "        t = 0\n",
    "        for j in range(len(w1[i])):\n",
    "            t = t + w1[i][j]*x[j]\n",
    "        z.append(t)\n",
    "    return z"
   ]
  },
  {
   "cell_type": "code",
   "execution_count": 54,
   "metadata": {},
   "outputs": [
    {
     "name": "stdout",
     "output_type": "stream",
     "text": [
      "[[-2.8, -7.2], [3.5, -2.5], [3.5, -2.5], [9.8, 2.2]]\n"
     ]
    }
   ],
   "source": [
    "z1 = []\n",
    "for i in range(len(x)):\n",
    "    t = hiddenLayer(w1,x[i])\n",
    "    z1.append(t)\n",
    "print(z1)"
   ]
  },
  {
   "cell_type": "code",
   "execution_count": 55,
   "metadata": {},
   "outputs": [],
   "source": [
    "def yHeadCal(yh):\n",
    "    yh = 1/ (1+np.exp(-1*yh)) \n",
    "    return yh"
   ]
  },
  {
   "cell_type": "code",
   "execution_count": 56,
   "metadata": {},
   "outputs": [
    {
     "name": "stdout",
     "output_type": "stream",
     "text": [
      "[[0.057324175898868755, 0.000746028833836697], [0.9706877692486436, 0.07585818002124355], [0.9706877692486436, 0.07585818002124355], [0.9999445514752772, 0.9002495108803148]]\n"
     ]
    }
   ],
   "source": [
    "for i in range(len(z1)):\n",
    "    t = []\n",
    "    for j in range(len(z1[i])):\n",
    "        z1[i][j] = yHeadCal(z1[i][j])\n",
    "print(z1)"
   ]
  },
  {
   "cell_type": "code",
   "execution_count": 57,
   "metadata": {},
   "outputs": [
    {
     "name": "stdout",
     "output_type": "stream",
     "text": [
      "[[1, 0.057324175898868755, 0.000746028833836697], [1, 0.9706877692486436, 0.07585818002124355], [1, 0.9706877692486436, 0.07585818002124355], [1, 0.9999445514752772, 0.9002495108803148]]\n"
     ]
    }
   ],
   "source": [
    "h = []\n",
    "for i in range(len(z1)):\n",
    "    h.append([1,z1[i][0],z1[i][1]])\n",
    "print(h)"
   ]
  },
  {
   "cell_type": "code",
   "execution_count": 58,
   "metadata": {},
   "outputs": [],
   "source": [
    "def predictZ2(w2,h):\n",
    "    t = 0\n",
    "    for i in range(len(w2)):\n",
    "        t = t + (w2[i]*h[i])\n",
    "    return t"
   ]
  },
  {
   "cell_type": "code",
   "execution_count": 59,
   "metadata": {},
   "outputs": [
    {
     "name": "stdout",
     "output_type": "stream",
     "text": [
      "[-3.957297405475994, 4.044849148570294, 4.044849148570294, -4.083077316816549]\n"
     ]
    }
   ],
   "source": [
    "z2 = []\n",
    "for i in range(len(h)):\n",
    "    t = predictZ2(w2,h[i])\n",
    "    z2.append(t)\n",
    "print(z2)"
   ]
  },
  {
   "cell_type": "code",
   "execution_count": 60,
   "metadata": {},
   "outputs": [
    {
     "name": "stdout",
     "output_type": "stream",
     "text": [
      "[0.01875618492135816, 0.9827890577602459, 0.9827890577602459, 0.016576116992935513]\n"
     ]
    }
   ],
   "source": [
    "for i in range(len(z2)):\n",
    "    z2[i] = yHeadCal(z2[i])\n",
    "print(z2)"
   ]
  },
  {
   "cell_type": "code",
   "execution_count": 61,
   "metadata": {},
   "outputs": [
    {
     "name": "stdout",
     "output_type": "stream",
     "text": [
      "[0, 1, 1, 0]\n"
     ]
    }
   ],
   "source": [
    "for i in range(len(z2)):\n",
    "    if(z2[i]<0.6):\n",
    "        z2[i] = 0\n",
    "    else:\n",
    "        z2[i] = 1\n",
    "print(z2)"
   ]
  },
  {
   "cell_type": "code",
   "execution_count": 62,
   "metadata": {},
   "outputs": [
    {
     "name": "stdout",
     "output_type": "stream",
     "text": [
      "Waw match\n"
     ]
    }
   ],
   "source": [
    "flag = 1\n",
    "for i in range(len(y)):\n",
    "    if(z2[i]!=y[i]):\n",
    "        flag = 0\n",
    "        print(\"Not Match\")\n",
    "        break\n",
    "if(flag==1):\n",
    "    print(\"Waw match\")"
   ]
  },
  {
   "cell_type": "code",
   "execution_count": null,
   "metadata": {},
   "outputs": [],
   "source": []
  }
 ],
 "metadata": {
  "kernelspec": {
   "display_name": "Python 3",
   "language": "python",
   "name": "python3"
  },
  "language_info": {
   "codemirror_mode": {
    "name": "ipython",
    "version": 3
   },
   "file_extension": ".py",
   "mimetype": "text/x-python",
   "name": "python",
   "nbconvert_exporter": "python",
   "pygments_lexer": "ipython3",
   "version": "3.7.3"
  }
 },
 "nbformat": 4,
 "nbformat_minor": 2
}
