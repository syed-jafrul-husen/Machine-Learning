{
 "cells": [
  {
   "cell_type": "code",
   "execution_count": 1,
   "metadata": {},
   "outputs": [],
   "source": [
    "import numpy as np\n",
    "import operator"
   ]
  },
  {
   "cell_type": "code",
   "execution_count": 9,
   "metadata": {},
   "outputs": [
    {
     "name": "stdout",
     "output_type": "stream",
     "text": [
      "[['sunny', 'hot', 'high', 'weak', 'no'], ['sunny', 'hot', 'high', 'strong', 'no'], ['overcast', 'hot', 'high', 'weak', 'yes'], ['rain', 'mild', 'high', 'weak', 'yes'], ['rain', 'cool', 'normal', 'weak', 'yes'], ['rain', 'cool', 'normal', 'strong', 'no'], ['overcast', 'cool', 'normal', 'strong', 'yes'], ['sunny', 'mild', 'high', 'weak', 'no'], ['sunny', 'cool', 'normal', 'weak', 'yes'], ['rain', 'mild', 'normal', 'weak', 'yes'], ['sunny', 'mild', 'normal', 'strong', 'yes'], ['overcast', 'hot', 'normal', 'weak', 'yes'], ['overcast', 'hot', 'normal', 'weak', 'yes'], ['rain', 'mild', 'high', 'strong', 'no']]\n"
     ]
    }
   ],
   "source": [
    "t = [\n",
    "    ['sunny','hot','high','weak','no'],\n",
    "    ['sunny','hot','high','strong','no'],\n",
    "    ['overcast','hot','high','weak','yes'],\n",
    "    ['rain','mild','high','weak','yes'],\n",
    "    ['rain','cool','normal','weak','yes'],\n",
    "    ['rain','cool','normal','strong','no'],\n",
    "    ['overcast','cool','normal','strong','yes'],\n",
    "    ['sunny','mild','high','weak','no'],\n",
    "    ['sunny','cool','normal','weak','yes'],\n",
    "    ['rain','mild','normal','weak','yes'],\n",
    "    ['sunny','mild','normal','strong','yes'],\n",
    "    ['overcast','hot','normal','weak','yes'],\n",
    "    ['overcast','hot','normal','weak','yes'],\n",
    "    ['rain','mild','high','strong','no']\n",
    "]\n",
    "print(t)"
   ]
  },
  {
   "cell_type": "code",
   "execution_count": 10,
   "metadata": {},
   "outputs": [],
   "source": [
    "def feq(rows):\n",
    "    cls={}\n",
    "    for row in rows:\n",
    "        c=row[4]\n",
    "        if c not in cls:\n",
    "            cls[c]=1\n",
    "        else:\n",
    "            cls[c]+=1\n",
    "    return cls"
   ]
  },
  {
   "cell_type": "code",
   "execution_count": 11,
   "metadata": {},
   "outputs": [
    {
     "data": {
      "text/plain": [
       "{'no': 5, 'yes': 9}"
      ]
     },
     "execution_count": 11,
     "metadata": {},
     "output_type": "execute_result"
    }
   ],
   "source": [
    "feq(t)"
   ]
  },
  {
   "cell_type": "code",
   "execution_count": 12,
   "metadata": {},
   "outputs": [],
   "source": [
    "def gini(rows):\n",
    "    cls=feq(rows)\n",
    "    #print(cls)\n",
    "    totalprob=1\n",
    "    for c in cls:\n",
    "        #print(c,cls[c])\n",
    "        pro=cls[c]/float(len(rows))\n",
    "        totalprob -=pro**2\n",
    "    return totalprob"
   ]
  },
  {
   "cell_type": "code",
   "execution_count": 13,
   "metadata": {},
   "outputs": [
    {
     "name": "stdout",
     "output_type": "stream",
     "text": [
      "0.4591836734693877\n"
     ]
    }
   ],
   "source": [
    "print(gini(t))"
   ]
  },
  {
   "cell_type": "code",
   "execution_count": null,
   "metadata": {},
   "outputs": [],
   "source": [
    "ig ={}\n",
    "for c in t:\n",
    "    "
   ]
  }
 ],
 "metadata": {
  "kernelspec": {
   "display_name": "Python 3",
   "language": "python",
   "name": "python3"
  },
  "language_info": {
   "codemirror_mode": {
    "name": "ipython",
    "version": 3
   },
   "file_extension": ".py",
   "mimetype": "text/x-python",
   "name": "python",
   "nbconvert_exporter": "python",
   "pygments_lexer": "ipython3",
   "version": "3.7.3"
  }
 },
 "nbformat": 4,
 "nbformat_minor": 2
}
