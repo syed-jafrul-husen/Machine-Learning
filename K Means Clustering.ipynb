{
 "cells": [
  {
   "cell_type": "code",
   "execution_count": 84,
   "metadata": {},
   "outputs": [],
   "source": [
    "import numpy as np\n",
    "import matplotlib.pyplot as plt"
   ]
  },
  {
   "cell_type": "code",
   "execution_count": 85,
   "metadata": {},
   "outputs": [],
   "source": [
    "x = [\n",
    "    [12,39],\n",
    "    [20,36],\n",
    "    [28,30],\n",
    "    [18,52],\n",
    "    [29,54],\n",
    "    [33,46],\n",
    "    [24,55],\n",
    "    [45,59],\n",
    "    [45,63],\n",
    "    [52,70],\n",
    "    [51,66],\n",
    "    [52,63],\n",
    "    [55,58],\n",
    "    [53,23],\n",
    "    [55,14],\n",
    "    [61,8],\n",
    "    [64,19],\n",
    "    [69,7],\n",
    "    [72,24],\n",
    "]\n",
    "X = np.array(x)"
   ]
  },
  {
   "cell_type": "code",
   "execution_count": 86,
   "metadata": {},
   "outputs": [],
   "source": [
    "#print(X)"
   ]
  },
  {
   "cell_type": "code",
   "execution_count": 87,
   "metadata": {},
   "outputs": [
    {
     "data": {
      "image/png": "[encoded data removed]",
      "text/plain": [
       "<Figure size 432x288 with 1 Axes>"
      ]
     },
     "metadata": {
      "needs_background": "light"
     },
     "output_type": "display_data"
    }
   ],
   "source": [
    "plt.scatter(X[:,0],X[:,1],marker='*' ) \n",
    "plt.show()"
   ]
  },
  {
   "cell_type": "code",
   "execution_count": 88,
   "metadata": {},
   "outputs": [],
   "source": [
    "c1=[29,54]\n",
    "c2=[52,63]\n",
    "c3=[20,36]"
   ]
  },
  {
   "cell_type": "code",
   "execution_count": 89,
   "metadata": {},
   "outputs": [],
   "source": [
    "def euclidianDistance(arr,c):\n",
    "    return np.sqrt( ((arr[0]-c[0])*(arr[0]-c[0]))+((arr[1]-c[1])*(arr[1]-c[1])) )"
   ]
  },
  {
   "cell_type": "code",
   "execution_count": 90,
   "metadata": {},
   "outputs": [],
   "source": [
    "def grouping(X):\n",
    "    g1 = []\n",
    "    g2 = []\n",
    "    g3 = []\n",
    "    sz = X.size\n",
    "    sz/=2\n",
    "    sz = int (sz)\n",
    "    #print(sz)\n",
    "    for i in range(sz):\n",
    "        data = X[i]\n",
    "        mn1 = euclidianDistance(data,c1)\n",
    "        mn2 = euclidianDistance(data,c2)\n",
    "        mn3 = euclidianDistance(data,c3)\n",
    "        if mn1<mn2 and mn1<mn3:\n",
    "            g1.append(data)\n",
    "        elif mn2<mn1 and mn2<mn3:\n",
    "            g2.append(data)\n",
    "        else:\n",
    "            g3.append(data)\n",
    "    return g1,g2,g3"
   ]
  },
  {
   "cell_type": "code",
   "execution_count": 91,
   "metadata": {},
   "outputs": [],
   "source": [
    "def average(grp):\n",
    "    GRP = np.array(grp)\n",
    "    sz = GRP.size\n",
    "    sz/=2\n",
    "    sz = int (sz)\n",
    "    left=0\n",
    "    right=0\n",
    "    for i in range(sz):\n",
    "        t = GRP[i]\n",
    "        left+=t[0]\n",
    "        right+=t[1]\n",
    "    c = [left/sz,right/sz]\n",
    "    return c"
   ]
  },
  {
   "cell_type": "code",
   "execution_count": 92,
   "metadata": {},
   "outputs": [
    {
     "name": "stdout",
     "output_type": "stream",
     "text": [
      "[26.0, 51.75]\n",
      "[54.5, 52.75]\n",
      "[42.57142857142857, 22.428571428571427]\n",
      "\n",
      "[array([18, 52]), array([29, 54]), array([33, 46]), array([24, 55])]\n",
      "[array([45, 59]), array([45, 63]), array([52, 70]), array([51, 66]), array([52, 63]), array([55, 58]), array([64, 19]), array([72, 24])]\n",
      "[array([12, 39]), array([20, 36]), array([28, 30]), array([53, 23]), array([55, 14]), array([61,  8]), array([69,  7])]\n",
      "[23.428571428571427, 44.57142857142857]\n",
      "[50.0, 63.166666666666664]\n",
      "[62.333333333333336, 15.833333333333334]\n"
     ]
    }
   ],
   "source": [
    "g1,g2,g3 = grouping(X)\n",
    "c1 = average(g1)\n",
    "c2 = average(g2)\n",
    "c3 = average(g3)\n",
    "print(c1)\n",
    "print(c2)\n",
    "print(c3)\n",
    "print()\n",
    "print(g1)\n",
    "print(g2)\n",
    "print(g3)\n",
    "while(1):\n",
    "    g1,g2,g3 = grouping(X)\n",
    "    c1 = average(g1)\n",
    "    c2 = average(g2)\n",
    "    c3 = average(g3)\n",
    "    \n",
    "    g1,g2,g3 = grouping(X)\n",
    "    c11 = average(g1)\n",
    "    c22 = average(g2)\n",
    "    c33 = average(g3)\n",
    "    \n",
    "    if c1==c11 and c2==c22 and c3==c33:\n",
    "        break\n",
    "print(c1)\n",
    "print(c2)\n",
    "print(c3)"
   ]
  },
  {
   "cell_type": "code",
   "execution_count": 93,
   "metadata": {},
   "outputs": [
    {
     "data": {
      "image/png": "[encoded data removed]",
      "text/plain": [
       "<Figure size 432x288 with 1 Axes>"
      ]
     },
     "metadata": {
      "needs_background": "light"
     },
     "output_type": "display_data"
    }
   ],
   "source": [
    "plt.scatter(X[:,0],X[:,1],marker='o' )\n",
    "colmap = {0: 'r', 1: 'g', 2: 'y', 3:'b'}\n",
    "plt.scatter(c1[0], c1[1], color=colmap[0])\n",
    "plt.scatter(c2[0], c2[1], color=colmap[1])\n",
    "plt.scatter(c3[0], c3[1], color=colmap[2])\n",
    "plt.show()"
   ]
  },
  {
   "cell_type": "code",
   "execution_count": null,
   "metadata": {},
   "outputs": [],
   "source": []
  },
  {
   "cell_type": "code",
   "execution_count": null,
   "metadata": {},
   "outputs": [],
   "source": []
  }
 ],
 "metadata": {
  "kernelspec": {
   "display_name": "Python 3",
   "language": "python",
   "name": "python3"
  },
  "language_info": {
   "codemirror_mode": {
    "name": "ipython",
    "version": 3
   },
   "file_extension": ".py",
   "mimetype": "text/x-python",
   "name": "python",
   "nbconvert_exporter": "python",
   "pygments_lexer": "ipython3",
   "version": "3.7.3"
  }
 },
 "nbformat": 4,
 "nbformat_minor": 2
}
