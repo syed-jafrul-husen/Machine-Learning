{
 "cells": [
  {
   "cell_type": "code",
   "execution_count": 1,
   "metadata": {},
   "outputs": [],
   "source": [
    "import numpy as np\n",
    "from math import *\n",
    "from sklearn.model_selection import train_test_split\n",
    "from sklearn import datasets\n",
    "from collections import Counter"
   ]
  },
  {
   "cell_type": "code",
   "execution_count": 2,
   "metadata": {},
   "outputs": [],
   "source": [
    "spam=[\n",
    "    'সে ভাল না',\n",
    "    'সে খুব খারাপ মানুষ',\n",
    "    'আমি খারাপ আছি',\n",
    "    'রোবট খারাপ'\n",
    "]\n",
    "\n",
    "ham=[\n",
    "    'আমি ভাল আছি',\n",
    "    'সুন্দর সুন্দর রোবট',\n",
    "    'আমি রোবট ভালবাসি',\n",
    "    'সে সুন্দর',\n",
    "    'সে ভাল মানুষ'\n",
    "]"
   ]
  },
  {
   "cell_type": "code",
   "execution_count": 4,
   "metadata": {},
   "outputs": [
    {
     "name": "stdout",
     "output_type": "stream",
     "text": [
      "['সে ভাল না', 'সে খুব খারাপ মানুষ', 'আমি খারাপ আছি', 'রোবট খারাপ']\n",
      "['সে ভাল না', 'সে খুব খারাপ মানুষ', 'আমি খারাপ আছি', 'রোবট খারাপ', 'আমি ভাল আছি', 'সুন্দর সুন্দর রোবট', 'আমি রোবট ভালবাসি', 'সে সুন্দর', 'সে ভাল মানুষ']\n"
     ]
    }
   ],
   "source": [
    "c = spam.copy()\n",
    "print(c)\n",
    "c.extend(ham)\n",
    "print(c)"
   ]
  },
  {
   "cell_type": "code",
   "execution_count": 5,
   "metadata": {},
   "outputs": [
    {
     "name": "stdout",
     "output_type": "stream",
     "text": [
      "[1. 1. 1. 1. 0. 0. 0. 0. 0.]\n"
     ]
    }
   ],
   "source": [
    "y=np.zeros(len(c))\n",
    "for i in range( len(spam)):\n",
    "    y[i]=1  #1 ->spam\n",
    "print(y)"
   ]
  },
  {
   "cell_type": "code",
   "execution_count": 12,
   "metadata": {},
   "outputs": [
    {
     "name": "stdout",
     "output_type": "stream",
     "text": [
      "Total no of doc:  ['সে ভাল না', 'সে খুব খারাপ মানুষ', 'আমি খারাপ আছি', 'রোবট খারাপ', 'আমি ভাল আছি', 'সুন্দর সুন্দর রোবট', 'আমি রোবট ভালবাসি', 'সে সুন্দর', 'সে ভাল মানুষ']\n",
      "\n",
      "total doc =  9    | noOfSpam =  4    | noOfHam =  5\n"
     ]
    }
   ],
   "source": [
    "print('Total no of doc: ',c)\n",
    "print()\n",
    "noOfDoc=len(c)\n",
    "noOfSpam=len(spam)\n",
    "noOfHam=len(ham)\n",
    "print('total doc = ',noOfDoc, '   | noOfSpam = ',noOfSpam,'   | noOfHam = ',noOfHam)"
   ]
  },
  {
   "cell_type": "code",
   "execution_count": 19,
   "metadata": {},
   "outputs": [
    {
     "name": "stdout",
     "output_type": "stream",
     "text": [
      "{'সে': 2, 'ভাল': 1, 'না': 1, 'খুব': 1, 'খারাপ': 3, 'মানুষ': 1, 'আমি': 1, 'আছি': 1, 'রোবট': 1}\n"
     ]
    }
   ],
   "source": [
    "spam_c={}\n",
    "for i in spam:\n",
    "    for j in i.split(' '):\n",
    "            if j in spam_c:\n",
    "                spam_c[j]+=1\n",
    "            else:\n",
    "                spam_c[j]=1\n",
    "print(spam_c);"
   ]
  },
  {
   "cell_type": "code",
   "execution_count": 17,
   "metadata": {},
   "outputs": [
    {
     "name": "stdout",
     "output_type": "stream",
     "text": [
      "{'আমি': 2, 'ভাল': 2, 'আছি': 1, 'সুন্দর': 3, 'রোবট': 2, 'ভালবাসি': 1, 'সে': 2, 'মানুষ': 1}\n"
     ]
    }
   ],
   "source": [
    "ham_c={}\n",
    "for i in ham:\n",
    "    for j in i.split(' '):\n",
    "            if j in ham_c:\n",
    "                ham_c[j]+=1\n",
    "            else:\n",
    "                ham_c[j]=1\n",
    "print(ham_c);"
   ]
  },
  {
   "cell_type": "code",
   "execution_count": 18,
   "metadata": {},
   "outputs": [
    {
     "name": "stdout",
     "output_type": "stream",
     "text": [
      "{'সে': 4, 'ভাল': 3, 'না': 1, 'খুব': 1, 'খারাপ': 3, 'মানুষ': 2, 'আমি': 3, 'আছি': 2, 'রোবট': 3, 'সুন্দর': 3, 'ভালবাসি': 1} \n",
      "\n"
     ]
    }
   ],
   "source": [
    "total = {}\n",
    "for i in c:\n",
    "    for j in i.split(' '):\n",
    "            if j in total:\n",
    "                total[j]+=1\n",
    "            else:\n",
    "                total[j]=1\n",
    "print(total,\"\\n\")"
   ]
  },
  {
   "cell_type": "code",
   "execution_count": 20,
   "metadata": {},
   "outputs": [
    {
     "name": "stdout",
     "output_type": "stream",
     "text": [
      "26 12 14\n"
     ]
    }
   ],
   "source": [
    "total_sum=sum(total.values())\n",
    "spam_sum=sum(spam_c.values())\n",
    "ham_sum=sum(ham_c.values())\n",
    "print(total_sum,spam_sum,ham_sum)"
   ]
  },
  {
   "cell_type": "code",
   "execution_count": null,
   "metadata": {},
   "outputs": [],
   "source": []
  }
 ],
 "metadata": {
  "kernelspec": {
   "display_name": "Python 3",
   "language": "python",
   "name": "python3"
  },
  "language_info": {
   "codemirror_mode": {
    "name": "ipython",
    "version": 3
   },
   "file_extension": ".py",
   "mimetype": "text/x-python",
   "name": "python",
   "nbconvert_exporter": "python",
   "pygments_lexer": "ipython3",
   "version": "3.7.3"
  }
 },
 "nbformat": 4,
 "nbformat_minor": 2
}
