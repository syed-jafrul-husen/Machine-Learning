{
 "cells": [
  {
   "cell_type": "markdown",
   "metadata": {},
   "source": [
    "# Rank List Prediction:"
   ]
  },
  {
   "cell_type": "code",
   "execution_count": 1,
   "metadata": {},
   "outputs": [],
   "source": [
    "import numpy as np \n",
    "import pandas as pd \n",
    "import seaborn as seab \n",
    "import matplotlib.pyplot as plt\n",
    "from IPython.display import display\n",
    "from ipywidgets import widgets\n",
    "\n",
    "from sklearn import preprocessing, svm \n",
    "from sklearn.metrics import mean_squared_error\n",
    "from sklearn.model_selection import train_test_split \n",
    "from sklearn.linear_model import LinearRegression \n",
    "from sklearn.tree import DecisionTreeRegressor"
   ]
  },
  {
   "cell_type": "code",
   "execution_count": 2,
   "metadata": {},
   "outputs": [
    {
     "data": {
      "text/html": [
       "<div>\n",
       "<style scoped>\n",
       "    .dataframe tbody tr th:only-of-type {\n",
       "        vertical-align: middle;\n",
       "    }\n",
       "\n",
       "    .dataframe tbody tr th {\n",
       "        vertical-align: top;\n",
       "    }\n",
       "\n",
       "    .dataframe thead th {\n",
       "        text-align: right;\n",
       "    }\n",
       "</style>\n",
       "<table border=\"1\" class=\"dataframe\">\n",
       "  <thead>\n",
       "    <tr style=\"text-align: right;\">\n",
       "      <th></th>\n",
       "      <th>a</th>\n",
       "      <th>b</th>\n",
       "      <th>c</th>\n",
       "    </tr>\n",
       "  </thead>\n",
       "  <tbody>\n",
       "    <tr>\n",
       "      <th>'BUET'</th>\n",
       "      <td>1901.37</td>\n",
       "      <td>1.6</td>\n",
       "      <td>1</td>\n",
       "    </tr>\n",
       "    <tr>\n",
       "      <th>'SUST'</th>\n",
       "      <td>1621.29</td>\n",
       "      <td>2.2</td>\n",
       "      <td>2</td>\n",
       "    </tr>\n",
       "    <tr>\n",
       "      <th>'DU'</th>\n",
       "      <td>1700.64</td>\n",
       "      <td>2.3</td>\n",
       "      <td>3</td>\n",
       "    </tr>\n",
       "    <tr>\n",
       "      <th>'IUT'</th>\n",
       "      <td>1598.03</td>\n",
       "      <td>4.1</td>\n",
       "      <td>4</td>\n",
       "    </tr>\n",
       "    <tr>\n",
       "      <th>'NEUB'</th>\n",
       "      <td>1046.21</td>\n",
       "      <td>6.8</td>\n",
       "      <td>7</td>\n",
       "    </tr>\n",
       "  </tbody>\n",
       "</table>\n",
       "</div>"
      ],
      "text/plain": [
       "              a    b  c\n",
       "'BUET'  1901.37  1.6  1\n",
       "'SUST'  1621.29  2.2  2\n",
       "'DU'    1700.64  2.3  3\n",
       "'IUT'   1598.03  4.1  4\n",
       "'NEUB'  1046.21  6.8  7"
      ]
     },
     "execution_count": 2,
     "metadata": {},
     "output_type": "execute_result"
    }
   ],
   "source": [
    "data = pd.read_csv('innovators.csv',delimiter=',',names=['a','b','c']) \n",
    "\n",
    "#df_binary = df[['a','b','c']]\n",
    "\n",
    "#df_binary.columns = ['a','b','c']\n",
    "\n",
    "data.head()"
   ]
  },
  {
   "cell_type": "code",
   "execution_count": null,
   "metadata": {},
   "outputs": [],
   "source": []
  },
  {
   "cell_type": "code",
   "execution_count": 3,
   "metadata": {},
   "outputs": [
    {
     "name": "stdout",
     "output_type": "stream",
     "text": [
      "0.8178214185114947\n",
      "[1 2 3 4 7 5 6]\n",
      "[[1.90137e+03 1.60000e+00]\n",
      " [1.62129e+03 2.20000e+00]\n",
      " [1.70064e+03 2.30000e+00]\n",
      " [1.59803e+03 4.10000e+00]\n",
      " [1.04621e+03 6.80000e+00]\n",
      " [1.27932e+03 6.00000e+00]\n",
      " [1.25024e+03 5.30000e+00]]\n"
     ]
    }
   ],
   "source": [
    "y=data['c']\n",
    "\n",
    "x = zip(data['a'],data['b'])\n",
    "\n",
    "X = []\n",
    "for i in x:\n",
    "    X.append(i)\n",
    "    \n",
    "    \n",
    "    \n",
    "X=np.array(X)\n",
    "y=np.array(y)\n",
    "\n",
    "\n",
    "X_train, X_test, y_train, y_test = train_test_split(X, y, test_size = 0.2)\n",
    "\n",
    "regr = LinearRegression()\n",
    "\n",
    "regr.fit(X_train, y_train)\n",
    "print(regr.score(X_test, y_test))\n",
    "\n",
    "print(y)\n",
    "print(X)"
   ]
  },
  {
   "cell_type": "code",
   "execution_count": 9,
   "metadata": {},
   "outputs": [
    {
     "name": "stdout",
     "output_type": "stream",
     "text": [
      "\n",
      "\n",
      "Enter Input:  1\n",
      "Enter Codeforces rating :1046.21\n",
      "Enter previous rank :6.8\n",
      "[['NEUB', array([7.18896757])]]\n"
     ]
    }
   ],
   "source": [
    "rank = []\n",
    "cnt = 0\n",
    "for i in range(1):\n",
    "    cnt = cnt + 1\n",
    "    \n",
    "    print()\n",
    "    print()\n",
    "    \n",
    "    print('Enter Input: ',cnt)\n",
    "    \n",
    "    t1 = eval(input(\"Enter Codeforces rating :\"))\n",
    "    t2 = eval(input(\"Enter previous rank :\"))\n",
    "    \n",
    "    p=[[t1,t2]]\n",
    "    rank.append([uv,regr.predict(p)])\n",
    "rank = sorted(rank,key=lambda x: (x[1]))\n",
    "print(rank)"
   ]
  },
  {
   "cell_type": "code",
   "execution_count": 8,
   "metadata": {},
   "outputs": [
    {
     "name": "stdout",
     "output_type": "stream",
     "text": [
      "         Rank List: \n",
      "-------------------------\n",
      "\n",
      " Rank          University\n",
      "   1               NEUB\n"
     ]
    }
   ],
   "source": []
  },
  {
   "cell_type": "code",
   "execution_count": 6,
   "metadata": {},
   "outputs": [
    {
     "name": "stdout",
     "output_type": "stream",
     "text": [
      "[1 2 3 4 7 5 6]\n"
     ]
    }
   ],
   "source": [
    "x2 = DecisionTreeRegressor()\n",
    "x2.fit(X,y)\n",
    "y2 = x2.predict(X)\n",
    "print(y)"
   ]
  },
  {
   "cell_type": "code",
   "execution_count": 7,
   "metadata": {},
   "outputs": [
    {
     "name": "stdout",
     "output_type": "stream",
     "text": [
      "0.0\n"
     ]
    },
    {
     "data": {
      "text/plain": [
       "[<matplotlib.lines.Line2D at 0x1f3a7df3470>]"
      ]
     },
     "execution_count": 7,
     "metadata": {},
     "output_type": "execute_result"
    },
    {
     "data": {
      "image/png": "[encoded data removed]",
      "text/plain": [
       "<Figure size 432x288 with 1 Axes>"
      ]
     },
     "metadata": {
      "needs_background": "light"
     },
     "output_type": "display_data"
    }
   ],
   "source": [
    "er = np.sqrt(mean_squared_error(y,y2))\n",
    "print(er)\n",
    "plt.plot(er)"
   ]
  },
  {
   "cell_type": "code",
   "execution_count": null,
   "metadata": {},
   "outputs": [],
   "source": [
    "rank = []\n",
    "cnt = 0\n",
    "for i in range(7):\n",
    "    cnt = cnt + 1\n",
    "    \n",
    "    print()\n",
    "    print()\n",
    "    \n",
    "    print('Enter Input: ',cnt)\n",
    "    \n",
    "    uv = (input(\"Enter University Name :\"))\n",
    "    t1 = eval(input(\"Enter Codeforces rating :\"))\n",
    "    t2 = eval(input(\"Enter previous rank :\"))\n",
    "    \n",
    "    p=[[t1,t2]]\n",
    "    rank.append([uv,regr.predict(p)])\n",
    "rank = sorted(rank,key=lambda x: (x[1]))\n",
    "print(rank)"
   ]
  },
  {
   "cell_type": "code",
   "execution_count": 10,
   "metadata": {},
   "outputs": [
    {
     "name": "stdout",
     "output_type": "stream",
     "text": [
      "         Rank List: \n",
      "-------------------------\n",
      "\n",
      " Rank          University\n",
      "   1               NEUB\n",
      "   2               BUET\n",
      "   3               MU\n",
      "   4               IUT\n",
      "   5               SUST\n",
      "   6               DU\n",
      "   7               LU\n"
     ]
    }
   ],
   "source": [
    "print('         Rank List: ')\n",
    "print('-------------------------')\n",
    "print()\n",
    "print(' Rank','        ','University')\n",
    "for i in range(7):\n",
    "    print('  ',i+1,'             ',rank[i][0])"
   ]
  },
  {
   "cell_type": "code",
   "execution_count": null,
   "metadata": {},
   "outputs": [],
   "source": []
  }
 ],
 "metadata": {
  "kernelspec": {
   "display_name": "Python 3",
   "language": "python",
   "name": "python3"
  },
  "language_info": {
   "codemirror_mode": {
    "name": "ipython",
    "version": 3
   },
   "file_extension": ".py",
   "mimetype": "text/x-python",
   "name": "python",
   "nbconvert_exporter": "python",
   "pygments_lexer": "ipython3",
   "version": "3.7.3"
  }
 },
 "nbformat": 4,
 "nbformat_minor": 2
}
