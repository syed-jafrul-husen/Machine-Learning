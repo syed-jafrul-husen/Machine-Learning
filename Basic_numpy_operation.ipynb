{
 "cells": [
  {
   "cell_type": "code",
   "execution_count": 1,
   "metadata": {},
   "outputs": [],
   "source": [
    "import numpy as np"
   ]
  },
  {
   "cell_type": "code",
   "execution_count": 3,
   "metadata": {},
   "outputs": [
    {
     "name": "stdout",
     "output_type": "stream",
     "text": [
      "[1 2 3]\n"
     ]
    }
   ],
   "source": [
    "#create a vector as a row\n",
    "vector_row = np.array([1,2,3])\n",
    "print(vector_row)"
   ]
  },
  {
   "cell_type": "code",
   "execution_count": 5,
   "metadata": {},
   "outputs": [
    {
     "name": "stdout",
     "output_type": "stream",
     "text": [
      "[0, 1, 2, 3, 4]\n",
      "[0 1 2 3 4]\n"
     ]
    }
   ],
   "source": [
    "k = []\n",
    "for i in range(5):\n",
    "    k.append(i)\n",
    "print(k)\n",
    "kk = np.array(k)\n",
    "print(kk)"
   ]
  },
  {
   "cell_type": "code",
   "execution_count": 6,
   "metadata": {},
   "outputs": [
    {
     "name": "stdout",
     "output_type": "stream",
     "text": [
      "2.0\n"
     ]
    }
   ],
   "source": [
    "np.mean(vector_row)\n",
    "print(np.mean(vector_row))"
   ]
  },
  {
   "cell_type": "code",
   "execution_count": 7,
   "metadata": {},
   "outputs": [
    {
     "name": "stdout",
     "output_type": "stream",
     "text": [
      "[[1]\n",
      " [2]\n",
      " [3]]\n"
     ]
    }
   ],
   "source": [
    "#create vector as a column\n",
    "vector_column = np.array([[1],[2],[3]])\n",
    "print(vector_column)"
   ]
  },
  {
   "cell_type": "code",
   "execution_count": 9,
   "metadata": {},
   "outputs": [
    {
     "name": "stdout",
     "output_type": "stream",
     "text": [
      "[list([1, 2]) list([2]) list([3])]\n"
     ]
    }
   ],
   "source": [
    "xx = np.array([[1,2],[2],[3]])\n",
    "print(xx)"
   ]
  },
  {
   "cell_type": "code",
   "execution_count": 11,
   "metadata": {},
   "outputs": [
    {
     "name": "stdout",
     "output_type": "stream",
     "text": [
      "[0 2 4 6 8]\n"
     ]
    }
   ],
   "source": [
    "#arange([start],stop,[step])\n",
    "np.arange(0,10,2)\n",
    "print(np.arange(0,10,2))"
   ]
  },
  {
   "cell_type": "code",
   "execution_count": 14,
   "metadata": {},
   "outputs": [
    {
     "name": "stdout",
     "output_type": "stream",
     "text": [
      "[ 0.   2.5  5.   7.5 10. ]\n"
     ]
    }
   ],
   "source": [
    "#start, stop, number of ponts evenly spaced\n",
    "lin_arr = np.linspace(0,10,5)\n",
    "print(lin_arr)"
   ]
  },
  {
   "cell_type": "code",
   "execution_count": 16,
   "metadata": {},
   "outputs": [
    {
     "name": "stdout",
     "output_type": "stream",
     "text": [
      "[0.40015201 0.81523252 0.81287742 0.03370569]\n"
     ]
    }
   ],
   "source": [
    "my_rand = np.random.rand(4)\n",
    "print(my_rand)"
   ]
  },
  {
   "cell_type": "code",
   "execution_count": 17,
   "metadata": {},
   "outputs": [
    {
     "name": "stdout",
     "output_type": "stream",
     "text": [
      "[[1 2 3]\n",
      " [4 5 6]]\n"
     ]
    }
   ],
   "source": [
    "matrix = np.array([[1,2,3],[4,5,6]])\n",
    "print(matrix)"
   ]
  },
  {
   "cell_type": "code",
   "execution_count": 18,
   "metadata": {},
   "outputs": [
    {
     "name": "stdout",
     "output_type": "stream",
     "text": [
      "[[0. 0.]\n",
      " [0. 0.]]\n"
     ]
    }
   ],
   "source": [
    "#create an array of all zeros\n",
    "a = np.zeros((2,2))\n",
    "print(a)"
   ]
  },
  {
   "cell_type": "code",
   "execution_count": 23,
   "metadata": {},
   "outputs": [
    {
     "name": "stdout",
     "output_type": "stream",
     "text": [
      "[[1. 1. 1. 1. 1.]\n",
      " [1. 1. 1. 1. 1.]]\n"
     ]
    }
   ],
   "source": [
    "#create an array of all ones\n",
    "b = np.ones((2,5))\n",
    "print(b)"
   ]
  },
  {
   "cell_type": "code",
   "execution_count": 24,
   "metadata": {},
   "outputs": [
    {
     "name": "stdout",
     "output_type": "stream",
     "text": [
      "[[7 7]\n",
      " [7 7]\n",
      " [7 7]]\n"
     ]
    }
   ],
   "source": [
    "#create a constant array\n",
    "c = np.full((3,2),7)\n",
    "print(c)"
   ]
  },
  {
   "cell_type": "code",
   "execution_count": 26,
   "metadata": {},
   "outputs": [
    {
     "name": "stdout",
     "output_type": "stream",
     "text": [
      "[[1. 0. 0. 0.]\n",
      " [0. 1. 0. 0.]\n",
      " [0. 0. 1. 0.]\n",
      " [0. 0. 0. 1.]]\n"
     ]
    }
   ],
   "source": [
    "#create a 4x4 identity matrix\n",
    "d = np.eye(4)\n",
    "print(d)"
   ]
  },
  {
   "cell_type": "code",
   "execution_count": 27,
   "metadata": {},
   "outputs": [
    {
     "name": "stdout",
     "output_type": "stream",
     "text": [
      "[[0.09007879 0.71516703]\n",
      " [0.8409199  0.81420096]]\n"
     ]
    }
   ],
   "source": [
    "#Create an array filled with random values\n",
    "e = np.random.random((2,2))\n",
    "print(e)"
   ]
  },
  {
   "cell_type": "code",
   "execution_count": 29,
   "metadata": {},
   "outputs": [
    {
     "name": "stdout",
     "output_type": "stream",
     "text": [
      "[1 2 3 4 5 6]\n",
      "[[1 2 3]\n",
      " [4 5 6]\n",
      " [7 8 9]]\n"
     ]
    }
   ],
   "source": [
    "#create a vector as a Row\n",
    "vector_row = np.array([1,2,3,4,5,6])\n",
    "print(vector_row)\n",
    "#create a matrix\n",
    "matrix = np.array([[1,2,3],[4,5,6],[7,8,9]])\n",
    "print(matrix)"
   ]
  },
  {
   "cell_type": "code",
   "execution_count": 33,
   "metadata": {},
   "outputs": [
    {
     "name": "stdout",
     "output_type": "stream",
     "text": [
      "[[2 3]\n",
      " [5 6]\n",
      " [8 9]]\n"
     ]
    }
   ],
   "source": [
    "a = matrix[:,1:3]\n",
    "print(a)"
   ]
  },
  {
   "cell_type": "code",
   "execution_count": 38,
   "metadata": {},
   "outputs": [
    {
     "name": "stdout",
     "output_type": "stream",
     "text": [
      "[1 2 3 4 5 6]\n",
      "[2 4 6]\n",
      "[1 2 3]\n",
      "[1 3 5]\n",
      "[4 5 6]\n",
      "6\n"
     ]
    }
   ],
   "source": [
    "print(vector_row)\n",
    "print(vector_row[1:6:2])\n",
    "print(vector_row[:3])\n",
    "print(vector_row[ : :2])\n",
    "print(vector_row[3:])\n",
    "print(vector_row[-1])"
   ]
  },
  {
   "cell_type": "code",
   "execution_count": 43,
   "metadata": {},
   "outputs": [
    {
     "name": "stdout",
     "output_type": "stream",
     "text": [
      "3\n",
      "5\n",
      "5\n",
      "[1 2 3 4 5 6]\n",
      "[[1 2 3]\n",
      " [4 5 6]]\n",
      "[[2]\n",
      " [5]\n",
      " [8]]\n"
     ]
    }
   ],
   "source": [
    "#select 3rd element of a vector\n",
    "print(vector_row[2])\n",
    "\n",
    "#select 2nd row 2nd column\n",
    "print(matrix[1,1])\n",
    "print(matrix[1][1])\n",
    "\n",
    "#select all element of a vector\n",
    "print(vector_row[:])\n",
    "\n",
    "#select the first 2 rows and all the columns of the matrix\n",
    "print(matrix[:2,:])\n",
    "\n",
    "#select all row and 2nd column of the matrix\n",
    "print(matrix[:,1:2])"
   ]
  },
  {
   "cell_type": "code",
   "execution_count": 49,
   "metadata": {},
   "outputs": [
    {
     "name": "stdout",
     "output_type": "stream",
     "text": [
      "[[1 2 3]\n",
      " [4 5 6]\n",
      " [7 1 9]]\n",
      "(3, 3)\n",
      "9\n",
      "2\n"
     ]
    }
   ],
   "source": [
    "matrix = np.array([[1,2,3],[4,5,6],[7,1,9]])\n",
    "print(matrix)\n",
    "print(matrix.shape)\n",
    "print(matrix.size)\n",
    "#View the number of DImensions\n",
    "print(matrix.ndim)"
   ]
  },
  {
   "cell_type": "code",
   "execution_count": 52,
   "metadata": {},
   "outputs": [
    {
     "data": {
      "text/plain": [
       "array([2, 2, 2], dtype=int64)"
      ]
     },
     "execution_count": 52,
     "metadata": {},
     "output_type": "execute_result"
    }
   ],
   "source": [
    "#index of the higest value in the array\n",
    "matrix.argmax(axis=1)\n",
    "#axis = 0 means, among the rows whose value is max.\n",
    "#axis = 1 means, among the columns whose value is max"
   ]
  },
  {
   "cell_type": "code",
   "execution_count": 53,
   "metadata": {},
   "outputs": [
    {
     "name": "stdout",
     "output_type": "stream",
     "text": [
      "9\n"
     ]
    }
   ],
   "source": [
    "matrix.max()\n",
    "print(matrix.max())"
   ]
  },
  {
   "cell_type": "code",
   "execution_count": 56,
   "metadata": {},
   "outputs": [
    {
     "name": "stdout",
     "output_type": "stream",
     "text": [
      "1\n",
      "0\n"
     ]
    }
   ],
   "source": [
    "#Lowest value of the matrix\n",
    "print(matrix.min())\n",
    "#Index of the lowest value of the matrix\n",
    "print(matrix.argmin())"
   ]
  },
  {
   "cell_type": "code",
   "execution_count": 58,
   "metadata": {},
   "outputs": [
    {
     "name": "stdout",
     "output_type": "stream",
     "text": [
      "[[1 2 3]\n",
      " [4 5 6]\n",
      " [7 1 9]]\n",
      "9\n",
      "1\n",
      "[7 5 9]\n",
      "[3 6 9]\n"
     ]
    }
   ],
   "source": [
    "print(matrix)\n",
    "print(np.max(matrix))\n",
    "print(np.min(matrix))\n",
    "\n",
    "print(np.max(matrix,axis=0))#max in each columns\n",
    "print(np.max(matrix,axis=1))#max in each rows"
   ]
  },
  {
   "cell_type": "code",
   "execution_count": 59,
   "metadata": {},
   "outputs": [
    {
     "name": "stdout",
     "output_type": "stream",
     "text": [
      "4.222222222222222\n",
      "2.615244954653293\n",
      "6.8395061728395055\n"
     ]
    }
   ],
   "source": [
    "#Mean\n",
    "print(np.mean(matrix))\n",
    "\n",
    "#standard deviation\n",
    "print(np.std(matrix))\n",
    "\n",
    "#variance\n",
    "print(np.var(matrix))"
   ]
  },
  {
   "cell_type": "code",
   "execution_count": 64,
   "metadata": {},
   "outputs": [
    {
     "name": "stdout",
     "output_type": "stream",
     "text": [
      "[[1]\n",
      " [2]\n",
      " [3]\n",
      " [4]\n",
      " [5]\n",
      " [6]\n",
      " [7]\n",
      " [1]\n",
      " [9]]\n",
      "[[1 2 3 4 5 6 7 1 9]]\n",
      "[1 2 3 4 5 6 7 1 9]\n",
      "[[1 2 3]\n",
      " [4 5 6]\n",
      " [7 1 9]]\n",
      "[1 2 3 4 5 6 7 1 9]\n"
     ]
    }
   ],
   "source": [
    "#Reshape\n",
    "print(matrix.reshape(9,1))\n",
    "\n",
    "#Here -1 says as many columns as needed and 1 row\n",
    "print(matrix.reshape(1,-1))\n",
    "\n",
    "#If we provide only 1 value reshape would return a 1D array of that length\n",
    "print(matrix.reshape(9))\n",
    "\n",
    "#We can also use the flatten method to convert a matrix to 1D array\n",
    "print(matrix)\n",
    "print(matrix.flatten())"
   ]
  },
  {
   "cell_type": "code",
   "execution_count": 65,
   "metadata": {},
   "outputs": [
    {
     "name": "stdout",
     "output_type": "stream",
     "text": [
      "[[1 4 7]\n",
      " [2 5 1]\n",
      " [3 6 9]]\n"
     ]
    }
   ],
   "source": [
    "#transpose of a matrix\n",
    "print(matrix.T)"
   ]
  },
  {
   "cell_type": "code",
   "execution_count": 66,
   "metadata": {},
   "outputs": [
    {
     "name": "stdout",
     "output_type": "stream",
     "text": [
      "-42.00000000000001\n",
      "3\n"
     ]
    }
   ],
   "source": [
    "#calculate the Determinant\n",
    "print(np.linalg.det(matrix))\n",
    "#calculate the rank\n",
    "print(np.linalg.matrix_rank(matrix))"
   ]
  },
  {
   "cell_type": "code",
   "execution_count": 68,
   "metadata": {},
   "outputs": [
    {
     "name": "stdout",
     "output_type": "stream",
     "text": [
      "[12.88425552 -1.0347066   3.15045109]\n",
      "[[-0.28586166 -0.81853596 -0.22734898]\n",
      " [-0.66793858 -0.02792403 -0.87758407]\n",
      " [-0.68712529  0.5737762   0.42208843]]\n"
     ]
    }
   ],
   "source": [
    "#Calculate the Eigenvalues and Eigenvectors of t hat matrix\n",
    "eigenvalues ,eigenvectors=np.linalg.eig(matrix)\n",
    "print(eigenvalues)\n",
    "print(eigenvectors)"
   ]
  },
  {
   "cell_type": "code",
   "execution_count": 69,
   "metadata": {},
   "outputs": [
    {
     "name": "stdout",
     "output_type": "stream",
     "text": [
      "32\n",
      "32\n",
      "32\n"
     ]
    }
   ],
   "source": [
    "#Create vector_1\n",
    "vector_1 = np.array([1,2,3])\n",
    "#Create vector_2\n",
    "vector_2 = np.array([4,5,6])\n",
    "#Calculate Dot product\n",
    "print(np.dot(vector_1,vector_2))\n",
    "#Alternatively you can use @ to calculate dot products\n",
    "print(vector_1 @ vector_2)\n",
    "print(vector_1.dot(vector_2))"
   ]
  },
  {
   "cell_type": "code",
   "execution_count": 71,
   "metadata": {},
   "outputs": [
    {
     "name": "stdout",
     "output_type": "stream",
     "text": [
      "[[ 2  4  6]\n",
      " [ 8 10 12]\n",
      " [14 16 18]]\n",
      "[[0 0 0]\n",
      " [0 0 0]\n",
      " [0 0 0]]\n",
      "[[ 1  4  9]\n",
      " [16 25 36]\n",
      " [49 64 81]]\n"
     ]
    }
   ],
   "source": [
    "#Create matrix_1\n",
    "matrix_1 = np.array([[1,2,3],[4,5,6],[7,8,9]])\n",
    "#Create matrix_2\n",
    "matrix_2 = np.array([[1,2,3],[4,5,6],[7,8,9]])\n",
    "\n",
    "#Add the 2 matrices\n",
    "print(np.add(matrix_1,matrix_2))\n",
    "\n",
    "#Subtraction\n",
    "print(np.subtract(matrix_1,matrix_2))\n",
    "\n",
    "#multiplication element wise, not dot product\n",
    "print(matrix_1 * matrix_2)"
   ]
  },
  {
   "cell_type": "code",
   "execution_count": 72,
   "metadata": {},
   "outputs": [
    {
     "name": "stdout",
     "output_type": "stream",
     "text": [
      "[[1 2 3]\n",
      " [4 5 6]\n",
      " [7 8 2]]\n",
      "[[-1.80952381  0.95238095 -0.14285714]\n",
      " [ 1.61904762 -0.9047619   0.28571429]\n",
      " [-0.14285714  0.28571429 -0.14285714]]\n"
     ]
    }
   ],
   "source": [
    "matrix = np.array([[1,2,3],[4,5,6],[7,8,2]])\n",
    "print(matrix)\n",
    "#Calculate its inverse\n",
    "print(np.linalg.inv(matrix))"
   ]
  },
  {
   "cell_type": "code",
   "execution_count": 75,
   "metadata": {},
   "outputs": [
    {
     "name": "stdout",
     "output_type": "stream",
     "text": [
      "[1 2 3]\n",
      "[1 2 3]\n",
      "14\n"
     ]
    }
   ],
   "source": [
    "data = np.array([[1,2,3],[4,5,6],[7,8,2]])\n",
    "r = np.array([1,2,3])\n",
    "print(data[0])\n",
    "print(data[0].T)\n",
    "print(np.dot(r,data[0].T))"
   ]
  },
  {
   "cell_type": "code",
   "execution_count": 76,
   "metadata": {},
   "outputs": [
    {
     "name": "stdout",
     "output_type": "stream",
     "text": [
      "[14, 32, 29]\n"
     ]
    }
   ],
   "source": [
    "ds = []\n",
    "for i in range(3):\n",
    "    val = np.dot(r,data[i].T) #For each row from data\n",
    "    ds.append(val)\n",
    "print(ds)"
   ]
  },
  {
   "cell_type": "code",
   "execution_count": 77,
   "metadata": {},
   "outputs": [
    {
     "data": {
      "text/plain": [
       "0.7310585786300049"
      ]
     },
     "execution_count": 77,
     "metadata": {},
     "output_type": "execute_result"
    }
   ],
   "source": [
    "def sigmoid(z):\n",
    "    return 1/(1+np.exp(-z))\n",
    "sigmoid(1)"
   ]
  },
  {
   "cell_type": "code",
   "execution_count": 78,
   "metadata": {},
   "outputs": [
    {
     "data": {
      "text/plain": [
       "19"
      ]
     },
     "execution_count": 78,
     "metadata": {},
     "output_type": "execute_result"
    }
   ],
   "source": [
    "a = np.array([1,3])\n",
    "b = np.array([4,5])\n",
    "np.dot(a,b.T)"
   ]
  },
  {
   "cell_type": "code",
   "execution_count": 83,
   "metadata": {},
   "outputs": [
    {
     "ename": "SyntaxError",
     "evalue": "invalid syntax (<ipython-input-83-9e9397e49b95>, line 3)",
     "output_type": "error",
     "traceback": [
      "\u001b[1;36m  File \u001b[1;32m\"<ipython-input-83-9e9397e49b95>\"\u001b[1;36m, line \u001b[1;32m3\u001b[0m\n\u001b[1;33m    for theta[0],\u001b[0m\n\u001b[1;37m                  ^\u001b[0m\n\u001b[1;31mSyntaxError\u001b[0m\u001b[1;31m:\u001b[0m invalid syntax\n"
     ]
    }
   ],
   "source": [
    "#implementing gradient method.\n",
    "\n",
    "for theta[0], \n",
    "             row_0=(pred_y[0] -  acutal_y[0]) X[0][0]  #as theta zero in colum0\n",
    "             row_1=(pred_y[1] -  acutal_y[1]) X[1][0]  #as theta zero in colum0\n",
    "             row_2=(pred_y[2] -  acutal_y[2]) X[2][0]  #as theta zero in colum0\n",
    "             row_3=(pred_y[3] -  acutal_y[3]) X[3][0]  #as theta zero in colum0\n",
    "             row_4=(pred_y[4] -  acutal_y[4]) X[4][0]  #as theta zero in colum0\n",
    "             row_5=(pred_y[5] -  acutal_y[5]) X[5][0]  #as theta zero in colum0\n",
    "             row_6=(pred_y[6] -  acutal_y[6]) X[6][0]  #as theta zero in colum0\n",
    "             \n",
    "total_grad=row_0 + row_1 + row_2 + row_3 + row_4 + row_5 + row_6\n",
    "avg= total_grad/7\n",
    "    \n",
    "Now, for theta[1]\n",
    "             row_0=(pred_y[0] -  acutal_y[0]) X[0][1]   \n",
    "             row_1=(pred_y[1] -  acutal_y[1]) X[1][1]   \n",
    "             row_2=(pred_y[2] -  acutal_y[2]) X[2][1]  \n",
    "             row_3=(pred_y[3] -  acutal_y[3]) X[3][1]  \n",
    "             row_4=(pred_y[4] -  acutal_y[4]) X[4][1]   \n",
    "             row_5=(pred_y[5] -  acutal_y[5]) X[5][1]   \n",
    "             row_6=(pred_y[6] -  acutal_y[6]) X[6][1]   \n",
    "             \n",
    "total_grad=row_0 + row_1 + row_2 + row_3 + row_4 + row_5 + row_6\n",
    "avg= total_grad/7\n",
    "#Output should be [0.42857143 8.57142857]"
   ]
  },
  {
   "cell_type": "code",
   "execution_count": null,
   "metadata": {},
   "outputs": [],
   "source": []
  }
 ],
 "metadata": {
  "kernelspec": {
   "display_name": "Python 3",
   "language": "python",
   "name": "python3"
  },
  "language_info": {
   "codemirror_mode": {
    "name": "ipython",
    "version": 3
   },
   "file_extension": ".py",
   "mimetype": "text/x-python",
   "name": "python",
   "nbconvert_exporter": "python",
   "pygments_lexer": "ipython3",
   "version": "3.7.3"
  }
 },
 "nbformat": 4,
 "nbformat_minor": 2
}
